{
  "nbformat": 4,
  "nbformat_minor": 0,
  "metadata": {
    "colab": {
      "provenance": []
    },
    "kernelspec": {
      "name": "python3",
      "display_name": "Python 3"
    },
    "language_info": {
      "name": "python"
    }
  },
  "cells": [
    {
      "cell_type": "code",
      "execution_count": null,
      "metadata": {
        "id": "qjcXzVxzp1kc"
      },
      "outputs": [],
      "source": [
        "import numpy as np"
      ]
    },
    {
      "cell_type": "code",
      "source": [
        "# 1. numpy.arange([start, ]stop, [step, ]dtype=None, *, like=None)\n",
        "# Return evenly spaced values within a given interval.\n",
        "np.arange(3,7,0.4)"
      ],
      "metadata": {
        "colab": {
          "base_uri": "https://localhost:8080/"
        },
        "id": "M2lku-ViqvyB",
        "outputId": "729f2698-4ec4-4243-e7a0-a558e815febb"
      },
      "execution_count": null,
      "outputs": [
        {
          "output_type": "execute_result",
          "data": {
            "text/plain": [
              "array([3. , 3.4, 3.8, 4.2, 4.6, 5. , 5.4, 5.8, 6.2, 6.6])"
            ]
          },
          "metadata": {},
          "execution_count": 65
        }
      ]
    },
    {
      "cell_type": "code",
      "source": [
        "# 2. numpy.array(object, dtype=None, *, copy=True, order='K', subok=False, ndmin=0, like=None)\n",
        "# Create an array\n",
        "np.array([[1, 2], [3, 4]])"
      ],
      "metadata": {
        "colab": {
          "base_uri": "https://localhost:8080/"
        },
        "id": "cW9n37OOqvvp",
        "outputId": "b809014b-af54-41ba-e18d-994f8a951bf5"
      },
      "execution_count": null,
      "outputs": [
        {
          "output_type": "execute_result",
          "data": {
            "text/plain": [
              "array([[1, 2],\n",
              "       [3, 4]])"
            ]
          },
          "metadata": {},
          "execution_count": 66
        }
      ]
    },
    {
      "cell_type": "code",
      "source": [
        "# 3. numpy.zeros(shape, dtype=float, order='C', *, like=None)\n",
        "# Return a new array of given shape and type, filled with zeros.\n",
        "np.zeros((5,), dtype=int)"
      ],
      "metadata": {
        "colab": {
          "base_uri": "https://localhost:8080/"
        },
        "id": "hGpgw8zPqvtJ",
        "outputId": "df6ec58e-dabf-4785-d5a6-9b4ff8dc2ec8"
      },
      "execution_count": null,
      "outputs": [
        {
          "output_type": "execute_result",
          "data": {
            "text/plain": [
              "array([0, 0, 0, 0, 0])"
            ]
          },
          "metadata": {},
          "execution_count": 67
        }
      ]
    },
    {
      "cell_type": "code",
      "source": [
        "# 4. numpy.ones(shape, dtype=None, order='C', *, like=None)\n",
        "# Return a new array of given shape and type, filled with ones.\n",
        "np.ones((2, 1))"
      ],
      "metadata": {
        "colab": {
          "base_uri": "https://localhost:8080/"
        },
        "id": "7jje34VGqvqr",
        "outputId": "7c5edb9b-db83-4d07-eb93-dd6226cf3b94"
      },
      "execution_count": null,
      "outputs": [
        {
          "output_type": "execute_result",
          "data": {
            "text/plain": [
              "array([[1.],\n",
              "       [1.]])"
            ]
          },
          "metadata": {},
          "execution_count": 68
        }
      ]
    },
    {
      "cell_type": "code",
      "source": [
        "# 5. numpy.empty(shape, dtype=float, order='C', *, like=None)\n",
        "# Return a new array of given shape and type, without initializing entries.\n",
        "np.empty([2, 2])"
      ],
      "metadata": {
        "colab": {
          "base_uri": "https://localhost:8080/"
        },
        "id": "GY7H3--FqvoZ",
        "outputId": "0aa70844-bd55-456c-9356-7d7230cfa9c0"
      },
      "execution_count": null,
      "outputs": [
        {
          "output_type": "execute_result",
          "data": {
            "text/plain": [
              "array([[0.08703704, 0.81349206],\n",
              "       [1.69312169, 0.03968254]])"
            ]
          },
          "metadata": {},
          "execution_count": 69
        }
      ]
    },
    {
      "cell_type": "code",
      "source": [
        "# 6. numpy.linspace(start, stop, num=50, endpoint=True, retstep=False, dtype=None, axis=0)[source]\n",
        "# Return evenly spaced numbers over a specified interval.\n",
        "# Returns num evenly spaced samples, calculated over the interval [start, stop].\n",
        "# The endpoint of the interval can optionally be excluded.\n",
        "np.linspace(0, 10, 8, endpoint=True)"
      ],
      "metadata": {
        "colab": {
          "base_uri": "https://localhost:8080/"
        },
        "id": "_v6rxssFqvmL",
        "outputId": "289a848d-a8d4-4c19-bfca-ba116a9d1f37"
      },
      "execution_count": null,
      "outputs": [
        {
          "output_type": "execute_result",
          "data": {
            "text/plain": [
              "array([ 0.        ,  1.42857143,  2.85714286,  4.28571429,  5.71428571,\n",
              "        7.14285714,  8.57142857, 10.        ])"
            ]
          },
          "metadata": {},
          "execution_count": 70
        }
      ]
    },
    {
      "cell_type": "code",
      "source": [
        "# 7. numpy.reshape(a, newshape, order='C')\n",
        "# Gives a new shape to an array without changing its data.\n",
        "a = np.array([[1,2,3], [4,5,6]])\n",
        "np.reshape(a, 6)"
      ],
      "metadata": {
        "colab": {
          "base_uri": "https://localhost:8080/"
        },
        "id": "SsC9leejqvjz",
        "outputId": "29ccaee5-f8a3-4476-e016-9adce94264e9"
      },
      "execution_count": null,
      "outputs": [
        {
          "output_type": "execute_result",
          "data": {
            "text/plain": [
              "array([1, 2, 3, 4, 5, 6])"
            ]
          },
          "metadata": {},
          "execution_count": 71
        }
      ]
    },
    {
      "cell_type": "code",
      "source": [
        "# 8. numpy.transpose(a, axes=None)[source]\n",
        "# Returns an array with axes transposed.\n",
        "a = np.array([[1, 2], [3, 4]])\n",
        "np.transpose(a)"
      ],
      "metadata": {
        "colab": {
          "base_uri": "https://localhost:8080/"
        },
        "id": "lu0J7o6dqvhR",
        "outputId": "390e398d-db53-4dac-f5b8-c42bacd2b4d7"
      },
      "execution_count": null,
      "outputs": [
        {
          "output_type": "execute_result",
          "data": {
            "text/plain": [
              "array([[1, 3],\n",
              "       [2, 4]])"
            ]
          },
          "metadata": {},
          "execution_count": 72
        }
      ]
    },
    {
      "cell_type": "code",
      "source": [
        "# 9. numpy.ravel(a, order='C')[source]\n",
        "# Return a contiguous flattened array.\n",
        "x = np.array([[1, 2, 3], [4, 5, 6]])\n",
        "np.ravel(x)"
      ],
      "metadata": {
        "colab": {
          "base_uri": "https://localhost:8080/"
        },
        "id": "Ke6H-K-tqvfC",
        "outputId": "e8aeecb9-35d2-4a55-b422-3eade96370ea"
      },
      "execution_count": null,
      "outputs": [
        {
          "output_type": "execute_result",
          "data": {
            "text/plain": [
              "array([1, 2, 3, 4, 5, 6])"
            ]
          },
          "metadata": {},
          "execution_count": 73
        }
      ]
    },
    {
      "cell_type": "code",
      "source": [
        "# 10. numpy.concatenate((a1, a2, ...), axis=0, out=None, dtype=None, casting=\"same_kind\")\n",
        "# Join a sequence of arrays along an existing axis.\n",
        "a = np.array([[1, 2], [3, 4]])\n",
        "b = np.array([[5, 6]])\n",
        "np.concatenate((a, b), axis=0)"
      ],
      "metadata": {
        "colab": {
          "base_uri": "https://localhost:8080/"
        },
        "id": "07djxD3uqvcJ",
        "outputId": "babd8d6e-23a4-4fbf-e267-e9d13354962a"
      },
      "execution_count": null,
      "outputs": [
        {
          "output_type": "execute_result",
          "data": {
            "text/plain": [
              "array([[1, 2],\n",
              "       [3, 4],\n",
              "       [5, 6]])"
            ]
          },
          "metadata": {},
          "execution_count": 74
        }
      ]
    },
    {
      "cell_type": "code",
      "source": [
        "# 11. numpy.vstack(tup, *, dtype=None, casting='same_kind')\n",
        "# Stack arrays in sequence vertically (row wise).\n",
        "a = np.array([1, 2, 3])\n",
        "b = np.array([4, 5, 6])\n",
        "np.vstack((a,b))"
      ],
      "metadata": {
        "colab": {
          "base_uri": "https://localhost:8080/"
        },
        "id": "W8mdBbs0qvar",
        "outputId": "7ee960d0-27b3-4c9c-d847-c8338f13487b"
      },
      "execution_count": null,
      "outputs": [
        {
          "output_type": "execute_result",
          "data": {
            "text/plain": [
              "array([[1, 2, 3],\n",
              "       [4, 5, 6]])"
            ]
          },
          "metadata": {},
          "execution_count": 75
        }
      ]
    },
    {
      "cell_type": "code",
      "source": [
        "# 12. numpy.hstack(tup, *, dtype=None, casting='same_kind')\n",
        "# Stack arrays in sequence horizontally (column wise).\n",
        "a = np.array((1,2,3))\n",
        "b = np.array((4,5,6))\n",
        "np.hstack((a,b))"
      ],
      "metadata": {
        "colab": {
          "base_uri": "https://localhost:8080/"
        },
        "id": "fO4am_7SqvYZ",
        "outputId": "a46858d5-b085-43b3-8f90-f5e737268d0d"
      },
      "execution_count": null,
      "outputs": [
        {
          "output_type": "execute_result",
          "data": {
            "text/plain": [
              "array([1, 2, 3, 4, 5, 6])"
            ]
          },
          "metadata": {},
          "execution_count": 76
        }
      ]
    },
    {
      "cell_type": "code",
      "source": [
        "# 13. numpy.split(ary, indices_or_sections, axis=0)[source]\n",
        "# Split an array into multiple sub-arrays as views into ary\n",
        "x = np.arange(9.0)\n",
        "np.split(x, 3)"
      ],
      "metadata": {
        "colab": {
          "base_uri": "https://localhost:8080/"
        },
        "id": "rYNATcfFqvWB",
        "outputId": "474683da-1e5e-467f-ebd4-5425e09e9ab0"
      },
      "execution_count": null,
      "outputs": [
        {
          "output_type": "execute_result",
          "data": {
            "text/plain": [
              "[array([0., 1., 2.]), array([3., 4., 5.]), array([6., 7., 8.])]"
            ]
          },
          "metadata": {},
          "execution_count": 77
        }
      ]
    },
    {
      "cell_type": "code",
      "source": [
        "# 14. numpy.copy(a, order='K', subok=False)[source]\n",
        "# Return an array copy of the given object.\n",
        "x = np.array([1, 2, 3])\n",
        "y = x\n",
        "z = np.copy(x)\n",
        "# Note that, when we modify x, y changes, but not z:\n",
        "x[0] = 10\n",
        "print(x[0] == y[0], x[0] == z[0])"
      ],
      "metadata": {
        "colab": {
          "base_uri": "https://localhost:8080/"
        },
        "id": "OrOn-1XfqvUB",
        "outputId": "e6f883ea-2d8d-4df4-e523-3166ad951759"
      },
      "execution_count": null,
      "outputs": [
        {
          "output_type": "stream",
          "name": "stdout",
          "text": [
            "True False\n"
          ]
        }
      ]
    },
    {
      "cell_type": "code",
      "source": [
        "# 15. ndarray.fill(value)\n",
        "# Fill the array with a scalar value.\n",
        "a = np.array([1, 2])\n",
        "a.fill(0)\n",
        "a"
      ],
      "metadata": {
        "colab": {
          "base_uri": "https://localhost:8080/"
        },
        "id": "deATaJKzqvSG",
        "outputId": "213abbfb-3a00-4d21-86f8-3e80e247b208"
      },
      "execution_count": null,
      "outputs": [
        {
          "output_type": "execute_result",
          "data": {
            "text/plain": [
              "array([0, 0])"
            ]
          },
          "metadata": {},
          "execution_count": 79
        }
      ]
    },
    {
      "cell_type": "code",
      "source": [
        "# 16. numpy.where(condition, [x, y, ]/)\n",
        "# Return elements chosen from x or y depending on .\n",
        "a = np.arange(10)\n",
        "print(a)\n",
        "np.where(a < 5, a, 10*a)"
      ],
      "metadata": {
        "colab": {
          "base_uri": "https://localhost:8080/"
        },
        "id": "PDhxq1ZkqvRJ",
        "outputId": "6dea05b1-fb0b-4448-cc28-6ddbffa73047"
      },
      "execution_count": null,
      "outputs": [
        {
          "output_type": "stream",
          "name": "stdout",
          "text": [
            "[0 1 2 3 4 5 6 7 8 9]\n"
          ]
        },
        {
          "output_type": "execute_result",
          "data": {
            "text/plain": [
              "array([ 0,  1,  2,  3,  4, 50, 60, 70, 80, 90])"
            ]
          },
          "metadata": {},
          "execution_count": 80
        }
      ]
    },
    {
      "cell_type": "code",
      "source": [
        "# 17. numpy.sort(a, axis=-1, kind=None, order=None)\n",
        "# Return a sorted copy of an array\n",
        "dtype = [('name', 'S10'), ('height', float), ('age', int)]\n",
        "values = [('Arthur', 1.8, 41), ('Lancelot', 1.9, 38),\n",
        "          ('Galahad', 1.7, 38)]\n",
        "a = np.array(values, dtype=dtype)\n",
        "np.sort(a, order='height')   "
      ],
      "metadata": {
        "colab": {
          "base_uri": "https://localhost:8080/"
        },
        "id": "Bi8MfC4kqvPq",
        "outputId": "106ff75c-acdb-4e99-ab03-bcb5b2362ce7"
      },
      "execution_count": null,
      "outputs": [
        {
          "output_type": "execute_result",
          "data": {
            "text/plain": [
              "array([(b'Galahad', 1.7, 38), (b'Arthur', 1.8, 41),\n",
              "       (b'Lancelot', 1.9, 38)],\n",
              "      dtype=[('name', 'S10'), ('height', '<f8'), ('age', '<i8')])"
            ]
          },
          "metadata": {},
          "execution_count": 81
        }
      ]
    },
    {
      "cell_type": "code",
      "source": [
        "# 18. numpy.argsort(a, axis=-1, kind=None, order=None)\n",
        "# Returns the indices that would sort an array.\n",
        "x = np.array([3, 1, 2])\n",
        "np.argsort(x)"
      ],
      "metadata": {
        "colab": {
          "base_uri": "https://localhost:8080/"
        },
        "id": "eIbtrp6fqvNZ",
        "outputId": "4de8fb76-4572-41cc-afc3-5508f2cec2df"
      },
      "execution_count": null,
      "outputs": [
        {
          "output_type": "execute_result",
          "data": {
            "text/plain": [
              "array([1, 2, 0])"
            ]
          },
          "metadata": {},
          "execution_count": 82
        }
      ]
    },
    {
      "cell_type": "code",
      "source": [
        "# 19. numpy.maximum(x1, x2, /, out=None, *, where=True, casting='same_kind', order='K', dtype=None, subok=True[, signature, extobj]) = <ufunc 'maximum'>\n",
        "# Element-wise maximum of array elements.\n",
        "np.maximum([2, 3, 4], [1, 5, 2])"
      ],
      "metadata": {
        "colab": {
          "base_uri": "https://localhost:8080/"
        },
        "id": "wFshrTJhqvLJ",
        "outputId": "dbcfb1ba-2a6b-4bf7-9b6e-ca55d7e08006"
      },
      "execution_count": null,
      "outputs": [
        {
          "output_type": "execute_result",
          "data": {
            "text/plain": [
              "array([2, 5, 4])"
            ]
          },
          "metadata": {},
          "execution_count": 83
        }
      ]
    },
    {
      "cell_type": "code",
      "source": [
        "# 20. numpy.minimum(x1, x2, /, out=None, *, where=True, casting='same_kind', order='K', dtype=None, subok=True[, signature, extobj]) = <ufunc 'minimum'>\n",
        "# Element-wise minimum of array elements.\n",
        "np.minimum([2, 3, 4], [1, 5, 2])"
      ],
      "metadata": {
        "colab": {
          "base_uri": "https://localhost:8080/"
        },
        "id": "_auSq0mIqvI7",
        "outputId": "153ada66-7720-4411-dc86-466de25e7272"
      },
      "execution_count": null,
      "outputs": [
        {
          "output_type": "execute_result",
          "data": {
            "text/plain": [
              "array([1, 3, 2])"
            ]
          },
          "metadata": {},
          "execution_count": 84
        }
      ]
    },
    {
      "cell_type": "code",
      "source": [
        "# 21. numpy.amin(a, axis=None, out=None, keepdims=<no value>, initial=<no value>, where=<no value>)\n",
        "# Return the minimum of an array or minimum along an axis.\n",
        "a = np.arange(4).reshape((2,2))\n",
        "print(a)\n",
        "print(np.amin(a))  # Minimum of the flattened array\n",
        "print(np.amin(a, axis=0))  # Minima along the first axis\n",
        "print(np.amin(a, axis=1))  # Minima along the second axis"
      ],
      "metadata": {
        "colab": {
          "base_uri": "https://localhost:8080/"
        },
        "id": "UgrHK5glqvGp",
        "outputId": "73d93cc3-b843-4ccd-9709-dad855424541"
      },
      "execution_count": null,
      "outputs": [
        {
          "output_type": "stream",
          "name": "stdout",
          "text": [
            "[[0 1]\n",
            " [2 3]]\n",
            "0\n",
            "[0 1]\n",
            "[0 2]\n"
          ]
        }
      ]
    },
    {
      "cell_type": "code",
      "source": [
        "# 22. numpy.mean(a, axis=None, dtype=None, out=None, keepdims=<no value>, *, where=<no value>)\n",
        "# Compute the arithmetic mean along the specified axis.\n",
        "a = np.array([[1, 2], [3, 4]])\n",
        "np.mean(a)"
      ],
      "metadata": {
        "colab": {
          "base_uri": "https://localhost:8080/"
        },
        "id": "44Zjp_JOqvEB",
        "outputId": "29946df6-2f4a-4f14-a6e3-0da9a94d09bc"
      },
      "execution_count": null,
      "outputs": [
        {
          "output_type": "execute_result",
          "data": {
            "text/plain": [
              "2.5"
            ]
          },
          "metadata": {},
          "execution_count": 86
        }
      ]
    },
    {
      "cell_type": "code",
      "source": [
        "# 23. numpy.median(a, axis=None, out=None, overwrite_input=False, keepdims=False)\n",
        "# Compute the median along the specified axis.\n",
        "a = np.array([[10, 7, 4], [3, 2, 1]])\n",
        "np.median(a)"
      ],
      "metadata": {
        "colab": {
          "base_uri": "https://localhost:8080/"
        },
        "id": "Qke4FLiVquvJ",
        "outputId": "a9231aaf-c3b1-41ea-d9ae-e132c0a438a3"
      },
      "execution_count": null,
      "outputs": [
        {
          "output_type": "execute_result",
          "data": {
            "text/plain": [
              "3.5"
            ]
          },
          "metadata": {},
          "execution_count": 87
        }
      ]
    },
    {
      "cell_type": "code",
      "source": [
        "# 24. numpy.std(a, axis=None, dtype=None, out=None, ddof=0, keepdims=<no value>, *, where=<no value>)\n",
        "# Compute the standard deviation along the specified axis.\n",
        "# Returns the standard deviation, a measure of the spread of a distribution, of the array elements. The standard deviation is computed for the flattened array by default, otherwise over the specified axis.\n",
        "a = np.array([[1, 2], [3, 4]])\n",
        "np.std(a)"
      ],
      "metadata": {
        "colab": {
          "base_uri": "https://localhost:8080/"
        },
        "id": "F78gYMpdwSHg",
        "outputId": "81c15639-f3d0-42a9-c4e6-219fe2c9f362"
      },
      "execution_count": null,
      "outputs": [
        {
          "output_type": "execute_result",
          "data": {
            "text/plain": [
              "1.118033988749895"
            ]
          },
          "metadata": {},
          "execution_count": 88
        }
      ]
    },
    {
      "cell_type": "code",
      "source": [
        "# 25. numpy.var(a, axis=None, dtype=None, out=None, ddof=0, keepdims=<no value>, *, where=<no value>)\n",
        "# Compute the variance along the specified axis.\n",
        "a = np.array([[1, 2], [3, 4]])\n",
        "np.var(a)"
      ],
      "metadata": {
        "colab": {
          "base_uri": "https://localhost:8080/"
        },
        "id": "Vu9Oz1ohwSE-",
        "outputId": "24151e4c-2504-48a0-c879-998d01c5c1cd"
      },
      "execution_count": null,
      "outputs": [
        {
          "output_type": "execute_result",
          "data": {
            "text/plain": [
              "1.25"
            ]
          },
          "metadata": {},
          "execution_count": 89
        }
      ]
    },
    {
      "cell_type": "code",
      "source": [
        "# 26. numpy.dot(a, b, out=None)\n",
        "# Dot product of two arrays.\n",
        "a = [[1, 0], [0, 1]]\n",
        "b = [[4, 1], [2, 2]]\n",
        "np.dot(a, b)"
      ],
      "metadata": {
        "colab": {
          "base_uri": "https://localhost:8080/"
        },
        "id": "Ik75-VwJwSCx",
        "outputId": "6bcc7962-de72-4416-d665-532bf2673113"
      },
      "execution_count": null,
      "outputs": [
        {
          "output_type": "execute_result",
          "data": {
            "text/plain": [
              "array([[4, 1],\n",
              "       [2, 2]])"
            ]
          },
          "metadata": {},
          "execution_count": 90
        }
      ]
    },
    {
      "cell_type": "code",
      "source": [
        "# 27. numpy.outer(a, b, out=None)\n",
        "# Compute the outer product of two vectors.\n",
        "rl = np.outer(np.ones((5,)), np.linspace(-2, 2, 5))\n",
        "rl"
      ],
      "metadata": {
        "colab": {
          "base_uri": "https://localhost:8080/"
        },
        "id": "pMu16e_nwSAB",
        "outputId": "8089119a-1562-494d-b6d2-2e3857d347c4"
      },
      "execution_count": null,
      "outputs": [
        {
          "output_type": "execute_result",
          "data": {
            "text/plain": [
              "array([[-2., -1.,  0.,  1.,  2.],\n",
              "       [-2., -1.,  0.,  1.,  2.],\n",
              "       [-2., -1.,  0.,  1.,  2.],\n",
              "       [-2., -1.,  0.,  1.,  2.],\n",
              "       [-2., -1.,  0.,  1.,  2.]])"
            ]
          },
          "metadata": {},
          "execution_count": 91
        }
      ]
    },
    {
      "cell_type": "code",
      "source": [
        "# 28. numpy.inner(a, b, /)\n",
        "# Inner product of two arrays.\n",
        "a = np.array([1,2,3])\n",
        "b = np.array([0,1,0])\n",
        "np.inner(a, b)"
      ],
      "metadata": {
        "colab": {
          "base_uri": "https://localhost:8080/"
        },
        "id": "7CyOpMMEwR-U",
        "outputId": "627d6005-747d-47d3-823b-974ff037be60"
      },
      "execution_count": null,
      "outputs": [
        {
          "output_type": "execute_result",
          "data": {
            "text/plain": [
              "2"
            ]
          },
          "metadata": {},
          "execution_count": 92
        }
      ]
    },
    {
      "cell_type": "code",
      "source": [
        "# 29. numpy.cross(a, b, axisa=-1, axisb=-1, axisc=-1, axis=None)\n",
        "# Return the cross product of two (arrays of) vectors\n",
        "x = [1, 2, 3]\n",
        "y = [4, 5, 6]\n",
        "np.cross(x, y)"
      ],
      "metadata": {
        "colab": {
          "base_uri": "https://localhost:8080/"
        },
        "id": "Gzf8SPeawR9C",
        "outputId": "55a3e087-a822-4e5f-ffa6-b2f6255230e3"
      },
      "execution_count": null,
      "outputs": [
        {
          "output_type": "execute_result",
          "data": {
            "text/plain": [
              "array([-3,  6, -3])"
            ]
          },
          "metadata": {},
          "execution_count": 93
        }
      ]
    },
    {
      "cell_type": "code",
      "source": [
        "# 30. numpy.trace(a, offset=0, axis1=0, axis2=1, dtype=None, out=None)\n",
        "np.trace(np.ones((3, 3)))"
      ],
      "metadata": {
        "colab": {
          "base_uri": "https://localhost:8080/"
        },
        "id": "uV5FUnNewR7y",
        "outputId": "c4b14488-d0f7-405e-fd2b-126f62a9faec"
      },
      "execution_count": null,
      "outputs": [
        {
          "output_type": "execute_result",
          "data": {
            "text/plain": [
              "3.0"
            ]
          },
          "metadata": {},
          "execution_count": 94
        }
      ]
    },
    {
      "cell_type": "code",
      "source": [
        "# 31. numpy.diag(v, k=0)\n",
        "# Extract a diagonal or construct a diagonal array\n",
        "x = np.arange(9).reshape((3,3))\n",
        "np.diag(x)"
      ],
      "metadata": {
        "colab": {
          "base_uri": "https://localhost:8080/"
        },
        "id": "z1l7c3NDwR6l",
        "outputId": "d9ed87bf-1c34-4f8f-e056-07f4ab528136"
      },
      "execution_count": null,
      "outputs": [
        {
          "output_type": "execute_result",
          "data": {
            "text/plain": [
              "array([0, 4, 8])"
            ]
          },
          "metadata": {},
          "execution_count": 95
        }
      ]
    },
    {
      "cell_type": "code",
      "source": [
        "# 32. numpy.clip(a, a_min, a_max, out=None, **kwargs)\n",
        "# Clip (limit) the values in an array.\n",
        "a = np.arange(10)\n",
        "print(a)\n",
        "np.clip(a, 1, 8)"
      ],
      "metadata": {
        "colab": {
          "base_uri": "https://localhost:8080/"
        },
        "id": "tz2V6s0gwR5a",
        "outputId": "1760d0d5-0fb1-4083-cdff-1812370edb1f"
      },
      "execution_count": null,
      "outputs": [
        {
          "output_type": "stream",
          "name": "stdout",
          "text": [
            "[0 1 2 3 4 5 6 7 8 9]\n"
          ]
        },
        {
          "output_type": "execute_result",
          "data": {
            "text/plain": [
              "array([1, 1, 2, 3, 4, 5, 6, 7, 8, 8])"
            ]
          },
          "metadata": {},
          "execution_count": 96
        }
      ]
    },
    {
      "cell_type": "code",
      "source": [
        "# 33. numpy.all(a, axis=None, out=None, keepdims=<no value>, *, where=<no value>)[source]\n",
        "# Test whether all array elements along a given axis evaluate to True.\n",
        "np.all([[True,False],[True,True]])"
      ],
      "metadata": {
        "colab": {
          "base_uri": "https://localhost:8080/"
        },
        "id": "z0gNuOR9wR4m",
        "outputId": "e5fe4916-7852-4c84-e507-2ba7f2646618"
      },
      "execution_count": null,
      "outputs": [
        {
          "output_type": "execute_result",
          "data": {
            "text/plain": [
              "False"
            ]
          },
          "metadata": {},
          "execution_count": 97
        }
      ]
    },
    {
      "cell_type": "code",
      "source": [
        "# 34. numpy.any(a, axis=None, out=None, keepdims=<no value>, *, where=<no value>)[source]\n",
        "# Test whether any array element along a given axis evaluates to True.\n",
        "np.any([[True, False], [True, True]])"
      ],
      "metadata": {
        "colab": {
          "base_uri": "https://localhost:8080/"
        },
        "id": "7w7SpRPgwR3A",
        "outputId": "8a48f4e4-a460-4d9c-c13d-4ebade9b95fc"
      },
      "execution_count": null,
      "outputs": [
        {
          "output_type": "execute_result",
          "data": {
            "text/plain": [
              "True"
            ]
          },
          "metadata": {},
          "execution_count": 98
        }
      ]
    },
    {
      "cell_type": "code",
      "source": [
        "# 35. numpy.isin(element, test_elements, assume_unique=False, invert=False, *, kind=None)[source]\n",
        "# Calculates element in test_elements, broadcasting over element only. Returns a boolean array of the same shape as element that is True where an element of element is in test_elements and False otherwise.\n",
        "element = 2*np.arange(4).reshape((2, 2))\n",
        "print(element)\n",
        "test_elements = [1, 2, 4, 8]\n",
        "mask = np.isin(element, test_elements)\n",
        "print(mask)\n",
        "print(element[mask])"
      ],
      "metadata": {
        "colab": {
          "base_uri": "https://localhost:8080/"
        },
        "id": "k_oEIeq0wR0e",
        "outputId": "76441797-1c5b-464b-c517-844f4a23785c"
      },
      "execution_count": null,
      "outputs": [
        {
          "output_type": "stream",
          "name": "stdout",
          "text": [
            "[[0 2]\n",
            " [4 6]]\n",
            "[[False  True]\n",
            " [ True False]]\n",
            "[2 4]\n"
          ]
        }
      ]
    },
    {
      "cell_type": "code",
      "source": [
        "# 36. random.rand(d0, d1, ..., dn)\n",
        "# Random values in a given shape.\n",
        "np.random.rand(3,2)"
      ],
      "metadata": {
        "colab": {
          "base_uri": "https://localhost:8080/"
        },
        "id": "U6NSy4VNwRyW",
        "outputId": "2f7646a5-7ee2-4648-ea24-e64e10b4dc0e"
      },
      "execution_count": null,
      "outputs": [
        {
          "output_type": "execute_result",
          "data": {
            "text/plain": [
              "array([[0.5379748 , 0.92602985],\n",
              "       [0.73769899, 0.03233598],\n",
              "       [0.6949513 , 0.28497316]])"
            ]
          },
          "metadata": {},
          "execution_count": 100
        }
      ]
    },
    {
      "cell_type": "code",
      "source": [
        "# 37. random.randn(d0, d1, ..., dn)\n",
        "# Return a sample (or samples) from the “standard normal” distribution.\n",
        "np.random.randn(2, 4)"
      ],
      "metadata": {
        "colab": {
          "base_uri": "https://localhost:8080/"
        },
        "id": "2Lw5pFGpwRvr",
        "outputId": "a2e9b483-d06d-40bb-a1fa-b288da07b3d8"
      },
      "execution_count": null,
      "outputs": [
        {
          "output_type": "execute_result",
          "data": {
            "text/plain": [
              "array([[ 0.42623153, -1.44131956,  1.30705775, -0.28537534],\n",
              "       [ 1.23036697,  0.2912149 , -0.9138312 , -0.10220807]])"
            ]
          },
          "metadata": {},
          "execution_count": 101
        }
      ]
    },
    {
      "cell_type": "code",
      "source": [
        "# 38. random.random_sample(size=None)\n",
        "# Return random floats in the half-open interval [0.0, 1.0).\n",
        "np.random.random_sample()"
      ],
      "metadata": {
        "colab": {
          "base_uri": "https://localhost:8080/"
        },
        "id": "o_jbtM0BwRtu",
        "outputId": "4a84807f-9404-4029-8d1a-211b486a22ef"
      },
      "execution_count": null,
      "outputs": [
        {
          "output_type": "execute_result",
          "data": {
            "text/plain": [
              "0.38397177281513506"
            ]
          },
          "metadata": {},
          "execution_count": 102
        }
      ]
    },
    {
      "cell_type": "code",
      "source": [
        "# 39. random.randint(low, high=None, size=None, dtype=int)\n",
        "# Return random integers from low (inclusive) to high (exclusive).\n",
        "# Return random integers from the “discrete uniform” distribution of the specified dtype in the “half-open” interval [low, high). If high is None (the default), then results are from [0, low)\n",
        "np.random.randint(2, size=10)"
      ],
      "metadata": {
        "colab": {
          "base_uri": "https://localhost:8080/"
        },
        "id": "vccADjwWwRrW",
        "outputId": "f7335633-aa5c-4aec-d9ba-b96653e892fe"
      },
      "execution_count": null,
      "outputs": [
        {
          "output_type": "execute_result",
          "data": {
            "text/plain": [
              "array([1, 1, 1, 1, 1, 0, 1, 0, 0, 0])"
            ]
          },
          "metadata": {},
          "execution_count": 103
        }
      ]
    },
    {
      "cell_type": "code",
      "source": [
        "# 40. random.shuffle(x)\n",
        "# Modify a sequence in-place by shuffling its contents.\n",
        "arr = np.arange(9).reshape((3, 3))\n",
        "np.random.shuffle(arr)\n",
        "arr"
      ],
      "metadata": {
        "colab": {
          "base_uri": "https://localhost:8080/"
        },
        "id": "vDb1cIx-wRpb",
        "outputId": "59aea207-2e61-4300-a2b9-83ac59dab72a"
      },
      "execution_count": null,
      "outputs": [
        {
          "output_type": "execute_result",
          "data": {
            "text/plain": [
              "array([[6, 7, 8],\n",
              "       [0, 1, 2],\n",
              "       [3, 4, 5]])"
            ]
          },
          "metadata": {},
          "execution_count": 104
        }
      ]
    },
    {
      "cell_type": "code",
      "source": [
        "# 41. random.choice(a, size=None, replace=True, p=None)\n",
        "# Generates a random sample from a given 1-D array\n",
        "np.random.choice(5, 3)"
      ],
      "metadata": {
        "colab": {
          "base_uri": "https://localhost:8080/"
        },
        "id": "Ok-U6tJ5wRnW",
        "outputId": "17007a3f-67f3-49f4-d785-0c3fdace13d8"
      },
      "execution_count": null,
      "outputs": [
        {
          "output_type": "execute_result",
          "data": {
            "text/plain": [
              "array([0, 2, 2])"
            ]
          },
          "metadata": {},
          "execution_count": 105
        }
      ]
    },
    {
      "cell_type": "code",
      "source": [
        "# 42. random.permutation(x)\n",
        "# Randomly permute a sequence, or return a permuted range.\n",
        "# If x is a multi-dimensional array, it is only shuffled along its first index.\n",
        "arr = np.arange(9).reshape((3, 3))\n",
        "np.random.permutation(arr)"
      ],
      "metadata": {
        "colab": {
          "base_uri": "https://localhost:8080/"
        },
        "id": "ILppEsvSwRkv",
        "outputId": "338e6905-d45f-4550-96b6-0f591c9e9b80"
      },
      "execution_count": null,
      "outputs": [
        {
          "output_type": "execute_result",
          "data": {
            "text/plain": [
              "array([[0, 1, 2],\n",
              "       [6, 7, 8],\n",
              "       [3, 4, 5]])"
            ]
          },
          "metadata": {},
          "execution_count": 106
        }
      ]
    },
    {
      "cell_type": "code",
      "source": [
        "# 43. fft.fft(a, n=None, axis=-1, norm=None)\n",
        "# Compute the one-dimensional discrete Fourier Transform.\n",
        "# This function computes the one-dimensional n-point discrete Fourier Transform (DFT) with the efficient Fast Fourier Transform (FFT) algorithm [CT].\n",
        "import matplotlib.pyplot as plt\n",
        "t = np.arange(256)\n",
        "sp = np.fft.fft(np.sin(t))\n",
        "freq = np.fft.fftfreq(t.shape[-1])\n",
        "plt.plot(freq, sp.real, freq, sp.imag)\n",
        "plt.show()"
      ],
      "metadata": {
        "colab": {
          "base_uri": "https://localhost:8080/",
          "height": 265
        },
        "id": "fTZGFzbBwRjL",
        "outputId": "821b58aa-2232-4389-eaf4-bce81abb9f0d"
      },
      "execution_count": null,
      "outputs": [
        {
          "output_type": "display_data",
          "data": {
            "text/plain": [
              "<Figure size 432x288 with 1 Axes>"
            ],
            "image/png": "[encoded data removed]"
          },
          "metadata": {
            "needs_background": "light"
          }
        }
      ]
    },
    {
      "cell_type": "code",
      "source": [
        "# 44. fft.ifft(a, n=None, axis=-1, norm=None)\n",
        "# Compute the one-dimensional inverse discrete Fourier Transform.\n",
        "import matplotlib.pyplot as plt\n",
        "t = np.arange(400)\n",
        "n = np.zeros((400,), dtype=complex)\n",
        "n[40:60] = np.exp(1j*np.random.uniform(0, 2*np.pi, (20,)))\n",
        "s = np.fft.ifft(n)\n",
        "plt.plot(t, s.real, label='real')\n",
        "plt.plot(t, s.imag, '--', label='imaginary')\n",
        "plt.legend()\n",
        "plt.show()"
      ],
      "metadata": {
        "colab": {
          "base_uri": "https://localhost:8080/",
          "height": 265
        },
        "id": "ebZR25KHwRif",
        "outputId": "246767af-382b-47f2-858b-f215bac7f073"
      },
      "execution_count": null,
      "outputs": [
        {
          "output_type": "display_data",
          "data": {
            "text/plain": [
              "<Figure size 432x288 with 1 Axes>"
            ],
            "image/png": "[encoded data removed]"
          },
          "metadata": {
            "needs_background": "light"
          }
        }
      ]
    },
    {
      "cell_type": "code",
      "source": [
        "# 45. fft.fftshift(x, axes=None)\n",
        "# Shift the zero-frequency component to the center of the spectrum.\n",
        "freqs = np.fft.fftfreq(10, 0.1)\n",
        "freqs"
      ],
      "metadata": {
        "colab": {
          "base_uri": "https://localhost:8080/"
        },
        "id": "Kays6lB7wRgm",
        "outputId": "f8d9dbb6-e435-4206-da61-5097ba9d9db8"
      },
      "execution_count": null,
      "outputs": [
        {
          "output_type": "execute_result",
          "data": {
            "text/plain": [
              "array([ 0.,  1.,  2.,  3.,  4., -5., -4., -3., -2., -1.])"
            ]
          },
          "metadata": {},
          "execution_count": 109
        }
      ]
    },
    {
      "cell_type": "code",
      "source": [
        "# 46. fft.ifftshift(x, axes=None)\n",
        "# The inverse of fftshift. Although identical for even-length x, the functions differ by one sample for odd-length x.\\\n",
        "freqs = np.fft.fftfreq(9, d=1./9).reshape(3, 3)\n",
        "print(freqs)\n",
        "np.fft.ifftshift(np.fft.fftshift(freqs))"
      ],
      "metadata": {
        "colab": {
          "base_uri": "https://localhost:8080/"
        },
        "id": "ZWHdBCh9wRb2",
        "outputId": "e84ece28-4a83-419b-cce1-44e327054ea0"
      },
      "execution_count": null,
      "outputs": [
        {
          "output_type": "stream",
          "name": "stdout",
          "text": [
            "[[ 0.  1.  2.]\n",
            " [ 3.  4. -4.]\n",
            " [-3. -2. -1.]]\n"
          ]
        },
        {
          "output_type": "execute_result",
          "data": {
            "text/plain": [
              "array([[ 0.,  1.,  2.],\n",
              "       [ 3.,  4., -4.],\n",
              "       [-3., -2., -1.]])"
            ]
          },
          "metadata": {},
          "execution_count": 110
        }
      ]
    },
    {
      "cell_type": "code",
      "source": [
        "# 47. fft.fftfreq(n, d=1.0)\n",
        "# Return the Discrete Fourier Transform sample frequencies.\n",
        "# The returned float array f contains the frequency bin centers in cycles per unit of the sample spacing (with zero at the start). For instance, if the sample spacing is in seconds, then the frequency unit is cycles/second.\n",
        "signal = np.array([-2, 8, 6, 4, 1, 0, 3, 5], dtype=float)\n",
        "fourier = np.fft.fft(signal)\n",
        "n = signal.size\n",
        "timestep = 0.1\n",
        "freq = np.fft.fftfreq(n, d=timestep)\n",
        "freq"
      ],
      "metadata": {
        "colab": {
          "base_uri": "https://localhost:8080/"
        },
        "id": "l6IcXZiawRZe",
        "outputId": "df7d04f5-d58a-4620-f2ff-f81c1fe21ee9"
      },
      "execution_count": null,
      "outputs": [
        {
          "output_type": "execute_result",
          "data": {
            "text/plain": [
              "array([ 0.  ,  1.25,  2.5 ,  3.75, -5.  , -3.75, -2.5 , -1.25])"
            ]
          },
          "metadata": {},
          "execution_count": 111
        }
      ]
    },
    {
      "cell_type": "code",
      "source": [
        "# 48. fft.rfft(a, n=None, axis=-1, norm=None)\n",
        "# Compute the one-dimensional discrete Fourier Transform for real input.\n",
        "# This function computes the one-dimensional n-point discrete Fourier Transform (DFT) of a real-valued array by means of an efficient algorithm called the Fast Fourier Transform (FFT).\n",
        "print(np.fft.fft([0, 1, 0, 0]))\n",
        "print(np.fft.rfft([0, 1, 0, 0]))"
      ],
      "metadata": {
        "colab": {
          "base_uri": "https://localhost:8080/"
        },
        "id": "gij62DZQwRXW",
        "outputId": "0db80805-3900-48f8-a623-e1a4ddd0ae23"
      },
      "execution_count": null,
      "outputs": [
        {
          "output_type": "stream",
          "name": "stdout",
          "text": [
            "[ 1.+0.j  0.-1.j -1.+0.j  0.+1.j]\n",
            "[ 1.+0.j  0.-1.j -1.+0.j]\n"
          ]
        }
      ]
    },
    {
      "cell_type": "code",
      "source": [
        "# 49. fft.irfft(a, n=None, axis=-1, norm=None)\n",
        "# Computes the inverse of rfft.\n",
        "# This function computes the inverse of the one-dimensional n-point discrete Fourier Transform of real input computed by rfft. In other words, irfft(rfft(a), len(a)) == a to within numerical accuracy. (See Notes below for why len(a) is necessary here.)\n",
        "print(np.fft.ifft([1, -1j, -1, 1j]))\n",
        "print(np.fft.irfft([1, -1j, -1]))"
      ],
      "metadata": {
        "colab": {
          "base_uri": "https://localhost:8080/"
        },
        "id": "LOZmSCPzwRVC",
        "outputId": "78358faa-82d1-4c54-b47b-f72c69846130"
      },
      "execution_count": null,
      "outputs": [
        {
          "output_type": "stream",
          "name": "stdout",
          "text": [
            "[0.+0.j 1.+0.j 0.+0.j 0.+0.j]\n",
            "[0. 1. 0. 0.]\n"
          ]
        }
      ]
    },
    {
      "cell_type": "code",
      "source": [
        "# 50. numpy.polyfit(x, y, deg, rcond=None, full=False, w=None, cov=False)\n",
        "# Least squares polynomial fit.\n",
        "import warnings\n",
        "x = np.array([0.0, 1.0, 2.0, 3.0,  4.0,  5.0])\n",
        "y = np.array([0.0, 0.8, 0.9, 0.1, -0.8, -1.0])\n",
        "z = np.polyfit(x, y, 3)\n",
        "z"
      ],
      "metadata": {
        "colab": {
          "base_uri": "https://localhost:8080/"
        },
        "id": "EpoDpPOswRTH",
        "outputId": "e296d4da-db1b-490a-a1c7-bfd21b351b93"
      },
      "execution_count": null,
      "outputs": [
        {
          "output_type": "execute_result",
          "data": {
            "text/plain": [
              "array([ 0.08703704, -0.81349206,  1.69312169, -0.03968254])"
            ]
          },
          "metadata": {},
          "execution_count": 114
        }
      ]
    },
    {
      "cell_type": "code",
      "source": [],
      "metadata": {
        "id": "fIg4UqFg1hF_"
      },
      "execution_count": null,
      "outputs": []
    }
  ]
}